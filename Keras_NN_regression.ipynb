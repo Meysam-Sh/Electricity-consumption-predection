{
  "nbformat": 4,
  "nbformat_minor": 0,
  "metadata": {
    "colab": {
      "name": "Keras NN regression",
      "provenance": []
    },
    "kernelspec": {
      "name": "python3",
      "display_name": "Python 3"
    }
  },
  "cells": [
    {
      "cell_type": "code",
      "metadata": {
        "id": "lh30pZSZZXfh"
      },
      "source": [
        "# imports\n",
        "import pandas \n",
        "import numpy \n",
        "from keras.models import Sequential\n",
        "from keras.layers import Dense\n",
        "from sklearn.metrics import r2_score\n",
        "import matplotlib.pyplot as plt\n",
        "from keras.optimizers import Adam\n",
        "from matplotlib import pyplot\n",
        "from keras.callbacks import EarlyStopping\n",
        "from sklearn.preprocessing import MinMaxScaler"
      ],
      "execution_count": null,
      "outputs": []
    },
    {
      "cell_type": "code",
      "metadata": {
        "id": "yTBvxWaKy_lD"
      },
      "source": [
        "# load data\n",
        "!curl -L -o table.csv \"https://www.eia.gov/consumption/residential/data/2009/csv/recs2009_public.csv\"\n",
        "df = pandas.read_csv(\"table.csv\")\n",
        "df.describe()"
      ],
      "execution_count": null,
      "outputs": []
    },
    {
      "cell_type": "code",
      "metadata": {
        "id": "mayOEDk0HauA"
      },
      "source": [
        "# fill missing values with \n",
        "df.fillna(0)\n",
        "# drop DOEID column  \n",
        "df = df.drop('DOEID', axis=1)\n",
        "# replace \".\" string with 0 in NOCRCASH and NKRGALNC variables \n",
        "df['NOCRCASH'] = df['NOCRCASH'].replace(['.'],[float(0)])\n",
        "df['NKRGALNC'] = df['NKRGALNC'].replace(['.'],[float(0)])\n",
        "# convert strings too numeric in NOCRCASH and 'NKRGALNC' variables \n",
        "df['NOCRCASH'] = pandas.to_numeric(df['NOCRCASH'])\n",
        "df['NKRGALNC'] = pandas.to_numeric(df['NKRGALNC'])\n",
        "# encode categorial variables \n",
        "df['UR'] = df['UR'].replace(['NONE','R','U'],[0,1,2])\n",
        "df['METROMICRO'] = df['METROMICRO'].replace(['NONE','MICRO','METRO'],[0, 1,2])\n",
        "climate = list(set(df['IECC_Climate_Pub'].to_list()))\n",
        "factors = [i for i in range(1,12)]\n",
        "df['IECC_Climate_Pub'] = df['IECC_Climate_Pub'].replace(climate, factors)\n",
        "# remove variables if more than 95% of them are 0 or -2\n",
        "df = df.loc[:, (df==0).mean() < .95]\n",
        "df = df.loc[:, (df==-2).mean() < .95]\n",
        "# remove variables with a constant vaule\n",
        "df = df[[col for col in df if not df[col].nunique()==1]]\n",
        "# store KWH in a seprate dataframe before normalization\n",
        "lables = df[['KWH']]\n",
        "df = df.drop('KWH', axis=1)\n",
        "# Min-Max normalization\n",
        "scaler = MinMaxScaler()\n",
        "headers = df.columns\n",
        "scaled = scaler.fit_transform(df)\n",
        "df_normalized = pandas.DataFrame(scaled)\n",
        "df_normalized.columns = headers \n",
        "# add the KWH again at the end of the dataframe \n",
        "df = df_normalized.join(lables)"
      ],
      "execution_count": null,
      "outputs": []
    },
    {
      "cell_type": "code",
      "metadata": {
        "id": "mRQNwZTTo6Vs"
      },
      "source": [
        "# convert the dataframe to dataset array\n",
        "dataset = df.values\n",
        "# shuffle the dataset \n",
        "numpy.random.shuffle(dataset)\n",
        "# split the dataset to 70% training set and 30% test set\n",
        "train, test = numpy.split(dataset, [int(.7*len(dataset))])\n",
        "X_train = train[:,0:-1]\n",
        "Y_train = train[:,-1]\n",
        "X_test = test[:,0:-1]\n",
        "Y_test = test[:,-1]"
      ],
      "execution_count": null,
      "outputs": []
    },
    {
      "cell_type": "code",
      "metadata": {
        "id": "7A-s3nH9sDl3"
      },
      "source": [
        "# build the model\n",
        "model = Sequential()\n",
        "model.add(Dense(30, activation=\"relu\", input_dim=456))\n",
        "model.add(Dense(20, activation=\"relu\"))\n",
        "model.add(Dense(10, activation=\"relu\"))\n",
        "model.add(Dense(1, activation=\"linear\"))\n",
        "\n",
        "# compile the model\n",
        "model.compile(loss='mean_squared_error', optimizer=Adam(lr=1e-3, decay=1e-3/100))\n",
        "\n",
        "# fit the model\n",
        "history = model.fit(X_train, Y_train, validation_data=(X_test, Y_test), epochs=1000, batch_size=500, verbose=2)"
      ],
      "execution_count": null,
      "outputs": []
    },
    {
      "cell_type": "code",
      "metadata": {
        "id": "quGAogEiz2qc"
      },
      "source": [
        "# calculate predictions\n",
        "pred_test_set = model.predict(X_test)\n",
        "\n",
        "# save predictions\n",
        "numpy.savetxt(\"test_results.csv\", pred_test_set, delimiter=\",\")"
      ],
      "execution_count": null,
      "outputs": []
    },
    {
      "cell_type": "code",
      "metadata": {
        "colab": {
          "base_uri": "https://localhost:8080/",
          "height": 295
        },
        "id": "KFq2mpnuUhYB",
        "outputId": "4db2cf93-1978-4afc-c4f0-322280870ac3"
      },
      "source": [
        "# plot the training history\n",
        "pyplot.plot(history.history['val_loss'], label='test')\n",
        "pyplot.plot(history.history['loss'], label='train')\n",
        "plt.title('model loss')\n",
        "plt.xlabel('epoch number')\n",
        "plt.ylabel('total loss for all samples')\n",
        "pyplot.legend()\n",
        "pyplot.show()"
      ],
      "execution_count": null,
      "outputs": [
        {
          "output_type": "display_data",
          "data": {
            "image/png": "[encoded data removed]",
            "text/plain": [
              "<Figure size 432x288 with 1 Axes>"
            ]
          },
          "metadata": {
            "tags": [],
            "needs_background": "light"
          }
        }
      ]
    },
    {
      "cell_type": "code",
      "metadata": {
        "colab": {
          "base_uri": "https://localhost:8080/",
          "height": 312
        },
        "id": "HBFEqXkMqTjD",
        "outputId": "143ded26-fd05-4332-e913-ef5d9ab3f57a"
      },
      "source": [
        "# plot the predicted values vs the actual values \n",
        "test_results = numpy.genfromtxt(\"test_results.csv\", delimiter=\",\")\n",
        "plt.plot(Y_test,test_results,'ro')\n",
        "plt.title('Test Set')\n",
        "plt.xlabel('Actual')\n",
        "plt.ylabel('Predicted')\n",
        "\n",
        "# compute R-Square value for test set\n",
        "TestR2Value = r2_score(Y_test,test_results)\n",
        "print(\"Test Set R-Square=\", round(TestR2Value, 4))"
      ],
      "execution_count": null,
      "outputs": [
        {
          "output_type": "stream",
          "text": [
            "Test Set R-Square= 0.9997\n"
          ],
          "name": "stdout"
        },
        {
          "output_type": "display_data",
          "data": {
            "image/png": "[encoded data removed]",
            "text/plain": [
              "<Figure size 432x288 with 1 Axes>"
            ]
          },
          "metadata": {
            "tags": [],
            "needs_background": "light"
          }
        }
      ]
    }
  ]
}